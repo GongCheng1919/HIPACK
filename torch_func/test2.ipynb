{
 "cells": [
  {
   "cell_type": "code",
   "execution_count": null,
   "metadata": {},
   "outputs": [
    {
     "name": "stdout",
     "output_type": "stream",
     "text": [
      "Float time: 3.0160 s\n",
      "Qint8 time: 881.0310 ms\n",
      "DC time: 1.0148 s\n"
     ]
    }
   ],
   "source": [
    "import torch\n",
    "import sys, os\n",
    "notebook_path = os.getcwd()  # Get the current working directory\n",
    "parent_directory = os.path.dirname(notebook_path)  # Get the parent directory\n",
    "sys.path.append(parent_directory)\n",
    "# from models.resnet import ResNet18\n",
    "# from models.vggnet import ExpVGG16_BN\n",
    "from models.utils import eager_quantize_model,fx_quantize_model,MeasureExecutionTime\n",
    "from models.conv import fuse_module\n",
    "from models.mobilenetv2 import mobilenet_v2,mobilenet_v2_qint8,mobilenet_v2_dc\n",
    "# 设置量化引擎为QNNPACK\n",
    "torch.backends.quantized.engine = 'qnnpack'\n",
    "\n",
    "x = torch.rand(16,3,224,224)\n",
    "model =mobilenet_v2()\n",
    "q_model = mobilenet_v2_qint8()\n",
    "dc_model = mobilenet_v2_dc(5,5)\n",
    "with MeasureExecutionTime(measure_name=\"Float\"):\n",
    "    out= model(x)\n",
    "\n",
    "with MeasureExecutionTime(measure_name=\"Qint8\"):\n",
    "    out= q_model(x)\n",
    "\n",
    "with MeasureExecutionTime(measure_name=\"DC\"):\n",
    "    out= dc_model(x)\n",
    "\n",
    "# vgg16bn = ExpVGG16_BN()\n",
    "# convert_to_direct_conv2d(fake_fuse_module_bn_relu(resnet18),3,3, module_type=nn.Conv2d)\n",
    "# vgg16bn(torch.rand(1,3,224,224))\n"
   ]
  },
  {
   "cell_type": "code",
   "execution_count": 1,
   "metadata": {},
   "outputs": [
    {
     "ename": "NameError",
     "evalue": "name 'model' is not defined",
     "output_type": "error",
     "traceback": [
      "\u001b[0;31m---------------------------------------------------------------------------\u001b[0m",
      "\u001b[0;31mNameError\u001b[0m                                 Traceback (most recent call last)",
      "Cell \u001b[0;32mIn[1], line 1\u001b[0m\n\u001b[0;32m----> 1\u001b[0m \u001b[43mmodel\u001b[49m(torch\u001b[38;5;241m.\u001b[39mrand(\u001b[38;5;241m1\u001b[39m,\u001b[38;5;241m3\u001b[39m,\u001b[38;5;241m224\u001b[39m,\u001b[38;5;241m224\u001b[39m))\n",
      "\u001b[0;31mNameError\u001b[0m: name 'model' is not defined"
     ]
    }
   ],
   "source": [
    "# model(torch.rand(1,3,224,224))\n",
    "def test_packed_weights(values,guard_bits=13):\n",
    "    values=[]\n",
    "    for i in range(3):\n",
    "        values.append((values>>(i*guard_bits))&((1<<guard_bits)-1))\n",
    "    return values\n",
    "test_packed_weights(8+1<<13+2<<26,13)   "
   ]
  },
  {
   "cell_type": "code",
   "execution_count": null,
   "metadata": {},
   "outputs": [
    {
     "data": {
      "text/plain": [
       "ExpVGG(\n",
       "  (quant): QuantStub()\n",
       "  (dequant): DeQuantStub()\n",
       "  (features): Sequential(\n",
       "    (0): AlignW()\n",
       "    (1): ConvReLU2d(\n",
       "      (0): Conv2d(3, 64, kernel_size=(3, 3), stride=(1, 1), padding=(2, 2))\n",
       "      (1): ReLU(inplace=True)\n",
       "    )\n",
       "    (2): Identity()\n",
       "    (3): Identity()\n",
       "    (4): AlignW()\n",
       "    (5): ConvReLU2d(\n",
       "      (0): Conv2d(64, 64, kernel_size=(3, 3), stride=(1, 1), padding=(2, 2))\n",
       "      (1): ReLU(inplace=True)\n",
       "    )\n",
       "    (6): Identity()\n",
       "    (7): Identity()\n",
       "    (8): MaxPool2d(kernel_size=2, stride=2, padding=0, dilation=1, ceil_mode=False)\n",
       "    (9): AlignW()\n",
       "    (10): ConvReLU2d(\n",
       "      (0): Conv2d(64, 128, kernel_size=(3, 3), stride=(1, 1), padding=(2, 2))\n",
       "      (1): ReLU(inplace=True)\n",
       "    )\n",
       "    (11): Identity()\n",
       "    (12): Identity()\n",
       "    (13): AlignW()\n",
       "    (14): ConvReLU2d(\n",
       "      (0): Conv2d(128, 128, kernel_size=(3, 3), stride=(1, 1), padding=(2, 2))\n",
       "      (1): ReLU(inplace=True)\n",
       "    )\n",
       "    (15): Identity()\n",
       "    (16): Identity()\n",
       "    (17): MaxPool2d(kernel_size=2, stride=2, padding=0, dilation=1, ceil_mode=False)\n",
       "    (18): AlignW()\n",
       "    (19): ConvReLU2d(\n",
       "      (0): Conv2d(128, 256, kernel_size=(3, 3), stride=(1, 1), padding=(2, 2))\n",
       "      (1): ReLU(inplace=True)\n",
       "    )\n",
       "    (20): Identity()\n",
       "    (21): Identity()\n",
       "    (22): AlignW()\n",
       "    (23): ConvReLU2d(\n",
       "      (0): Conv2d(256, 256, kernel_size=(3, 3), stride=(1, 1), padding=(2, 2))\n",
       "      (1): ReLU(inplace=True)\n",
       "    )\n",
       "    (24): Identity()\n",
       "    (25): Identity()\n",
       "    (26): AlignW()\n",
       "    (27): ConvReLU2d(\n",
       "      (0): Conv2d(256, 256, kernel_size=(3, 3), stride=(1, 1), padding=(2, 2))\n",
       "      (1): ReLU(inplace=True)\n",
       "    )\n",
       "    (28): Identity()\n",
       "    (29): Identity()\n",
       "    (30): MaxPool2d(kernel_size=2, stride=2, padding=0, dilation=1, ceil_mode=False)\n",
       "    (31): AlignW()\n",
       "    (32): ConvReLU2d(\n",
       "      (0): Conv2d(256, 512, kernel_size=(3, 3), stride=(1, 1), padding=(2, 2))\n",
       "      (1): ReLU(inplace=True)\n",
       "    )\n",
       "    (33): Identity()\n",
       "    (34): Identity()\n",
       "    (35): AlignW()\n",
       "    (36): ConvReLU2d(\n",
       "      (0): Conv2d(512, 512, kernel_size=(3, 3), stride=(1, 1), padding=(2, 2))\n",
       "      (1): ReLU(inplace=True)\n",
       "    )\n",
       "    (37): Identity()\n",
       "    (38): Identity()\n",
       "    (39): AlignW()\n",
       "    (40): ConvReLU2d(\n",
       "      (0): Conv2d(512, 512, kernel_size=(3, 3), stride=(1, 1), padding=(2, 2))\n",
       "      (1): ReLU(inplace=True)\n",
       "    )\n",
       "    (41): Identity()\n",
       "    (42): Identity()\n",
       "    (43): MaxPool2d(kernel_size=2, stride=2, padding=0, dilation=1, ceil_mode=False)\n",
       "    (44): AlignW()\n",
       "    (45): ConvReLU2d(\n",
       "      (0): Conv2d(512, 512, kernel_size=(3, 3), stride=(1, 1), padding=(2, 2))\n",
       "      (1): ReLU(inplace=True)\n",
       "    )\n",
       "    (46): Identity()\n",
       "    (47): Identity()\n",
       "    (48): AlignW()\n",
       "    (49): ConvReLU2d(\n",
       "      (0): Conv2d(512, 512, kernel_size=(3, 3), stride=(1, 1), padding=(2, 2))\n",
       "      (1): ReLU(inplace=True)\n",
       "    )\n",
       "    (50): Identity()\n",
       "    (51): Identity()\n",
       "    (52): AlignW()\n",
       "    (53): ConvReLU2d(\n",
       "      (0): Conv2d(512, 512, kernel_size=(3, 3), stride=(1, 1), padding=(2, 2))\n",
       "      (1): ReLU(inplace=True)\n",
       "    )\n",
       "    (54): Identity()\n",
       "    (55): Identity()\n",
       "    (56): MaxPool2d(kernel_size=2, stride=2, padding=0, dilation=1, ceil_mode=False)\n",
       "  )\n",
       "  (classifier): Sequential(\n",
       "    (0): LinearReLU(\n",
       "      (0): Linear(in_features=43008, out_features=4096, bias=True)\n",
       "      (1): ReLU(inplace=True)\n",
       "    )\n",
       "    (1): Identity()\n",
       "    (2): Dropout(p=0.5, inplace=False)\n",
       "    (3): LinearReLU(\n",
       "      (0): Linear(in_features=4096, out_features=4096, bias=True)\n",
       "      (1): ReLU(inplace=True)\n",
       "    )\n",
       "    (4): Identity()\n",
       "    (5): Dropout(p=0.5, inplace=False)\n",
       "    (6): Linear(in_features=4096, out_features=1000, bias=True)\n",
       "  )\n",
       ")"
      ]
     },
     "execution_count": 3,
     "metadata": {},
     "output_type": "execute_result"
    }
   ],
   "source": [
    "# from models.vggnet import VGG16_BN_qint8\n",
    "# vgg16bn_qint8 = VGG16_BN_qint8()\n",
    "# vgg16bn_qint8(torch.rand(1,3,224,224))\n",
    "# vgg16bn_qint8\n",
    "# from models.utils import eager_quantize_model,fx_quantize_model\n",
    "from models.conv import fuse_module\n",
    "# vgg16bn.eval()\n",
    "model = fuse_module(vgg16bn)\n",
    "model"
   ]
  },
  {
   "cell_type": "code",
   "execution_count": null,
   "metadata": {},
   "outputs": [],
   "source": [
    "# model\n",
    "# import sys, os\n",
    "# notebook_path = os.getcwd()  # Get the current working directory\n",
    "# parent_directory = os.path.dirname(notebook_path)  # Get the parent directory\n",
    "# sys.path.append(parent_directory)\n",
    "# from models.utils import eager_quantize_model,fx_quantize_model\n",
    "# q_model = eager_quantize_model(model,shape=(1,3,224,224))\n",
    "# import torch\n",
    "# torch.__version__\n",
    "# vgg16bn_qint8"
   ]
  },
  {
   "cell_type": "code",
   "execution_count": null,
   "metadata": {},
   "outputs": [
    {
     "name": "stderr",
     "output_type": "stream",
     "text": [
      "/data/newhome/gongcheng/.local/lib/python3.9/site-packages/torch/ao/quantization/utils.py:339: UserWarning: must run observer before calling calculate_qparams. Returning default values.\n",
      "  warnings.warn(\n"
     ]
    }
   ],
   "source": [
    "from models.vggnet import ExpVGG16_BN_qint8\n",
    "vgg16bn_qint8 = ExpVGG16_BN_qint8()"
   ]
  },
  {
   "cell_type": "code",
   "execution_count": null,
   "metadata": {},
   "outputs": [
    {
     "name": "stdout",
     "output_type": "stream",
     "text": [
      "0-th layer:\n",
      "\teagerqint8 layer  time: 0.02710368880070746\n",
      "\tdirectconv layer  time: 0.052724953508004546\n",
      "\t Layer features.1: eagerqint8 is faster than directconv W3A3, keep it!\n",
      "1-th layer:\n",
      "\teagerqint8 layer  time: 0.15064069454092532\n",
      "\tdirectconv layer  time: 0.18505668843863532\n",
      "\t Layer features.5: eagerqint8 is faster than directconv W3A3, keep it!\n",
      "2-th layer:\n",
      "\teagerqint8 layer  time: 0.07917620684020221\n",
      "\tdirectconv layer  time: 0.08322201180271804\n",
      "\t Layer features.10: eagerqint8 is faster than directconv W3A3, keep it!\n",
      "3-th layer:\n",
      "\teagerqint8 layer  time: 0.18105861451476812\n",
      "\tdirectconv layer  time: 0.1408108095638454\n",
      "\t Layer features.14: directconv W3A3 is faster than eagerqint8 by 0.04025s, replace it!\n",
      "4-th layer:\n",
      "\teagerqint8 layer  time: 0.07793318771291524\n",
      "\tdirectconv layer  time: 0.06350989069323987\n",
      "\t Layer features.19: directconv W3A3 is faster than eagerqint8 by 0.01442s, replace it!\n",
      "5-th layer:\n",
      "\teagerqint8 layer  time: 0.14332643075613305\n",
      "\tdirectconv layer  time: 0.11414974753279239\n",
      "\t Layer features.23: directconv W3A3 is faster than eagerqint8 by 0.02918s, replace it!\n",
      "6-th layer:\n",
      "\teagerqint8 layer  time: 0.1470187708036974\n",
      "\tdirectconv layer  time: 0.13339294074103236\n",
      "\t Layer features.27: directconv W3A3 is faster than eagerqint8 by 0.01363s, replace it!\n",
      "7-th layer:\n",
      "\teagerqint8 layer  time: 0.09918492252472788\n",
      "\tdirectconv layer  time: 0.06682908948278055\n",
      "\t Layer features.32: directconv W3A3 is faster than eagerqint8 by 0.03236s, replace it!\n",
      "8-th layer:\n",
      "\teagerqint8 layer  time: 0.1759982428047806\n",
      "\tdirectconv layer  time: 0.1431536822929047\n",
      "\t Layer features.36: directconv W3A3 is faster than eagerqint8 by 0.03284s, replace it!\n",
      "9-th layer:\n",
      "\teagerqint8 layer  time: 0.1636223712703213\n",
      "\tdirectconv layer  time: 0.13698197569465265\n",
      "\t Layer features.40: directconv W3A3 is faster than eagerqint8 by 0.02664s, replace it!\n",
      "10-th layer:\n",
      "\teagerqint8 layer  time: 0.07045373122673482\n",
      "\tdirectconv layer  time: 0.06262609153054655\n",
      "\t Layer features.45: directconv W3A3 is faster than eagerqint8 by 0.007828s, replace it!\n",
      "11-th layer:\n",
      "\teagerqint8 layer  time: 0.07754516269778833\n",
      "\tdirectconv layer  time: 0.05952841875841841\n",
      "\t Layer features.49: directconv W3A3 is faster than eagerqint8 by 0.01802s, replace it!\n",
      "12-th layer:\n",
      "\teagerqint8 layer  time: 0.06740246072877198\n",
      "\tdirectconv layer  time: 0.05857683776412159\n",
      "\t Layer features.53: directconv W3A3 is faster than eagerqint8 by 0.008826s, replace it!\n",
      "0-th layer:\n",
      "\teagerqint8 layer  time: 0.0236533290008083\n",
      "\tdirectconv layer  time: 0.03907796082785353\n",
      "\t Layer features.1: eagerqint8 is faster than directconv W2A2, keep it!\n",
      "1-th layer:\n",
      "\teagerqint8 layer  time: 0.14624165574787185\n",
      "\tdirectconv layer  time: 0.1649291257490404\n",
      "\t Layer features.5: eagerqint8 is faster than directconv W2A2, keep it!\n",
      "2-th layer:\n",
      "\teagerqint8 layer  time: 0.07783442473737523\n",
      "\tdirectconv layer  time: 0.09249118203297257\n",
      "\t Layer features.10: eagerqint8 is faster than directconv W2A2, keep it!\n",
      "3-th layer:\n",
      "\teagerqint8 layer  time: 0.16708193527301773\n",
      "\tdirectconv layer  time: 0.1424155576969497\n",
      "\t Layer features.14: directconv W2A2 is faster than eagerqint8 by 0.02467s, replace it!\n",
      "4-th layer:\n",
      "\teagerqint8 layer  time: 0.07018103887094185\n",
      "\tdirectconv layer  time: 0.07003551628440619\n",
      "\t Layer features.19: directconv W2A2 is faster than eagerqint8 by 0.0001455s, replace it!\n",
      "5-th layer:\n",
      "\teagerqint8 layer  time: 0.16088840446900576\n",
      "\tdirectconv layer  time: 0.14707439503399655\n",
      "\t Layer features.23: directconv W2A2 is faster than eagerqint8 by 0.01381s, replace it!\n",
      "6-th layer:\n",
      "\teagerqint8 layer  time: 0.1692420957260765\n",
      "\tdirectconv layer  time: 0.12653032696107402\n",
      "\t Layer features.27: directconv W2A2 is faster than eagerqint8 by 0.04271s, replace it!\n",
      "7-th layer:\n",
      "\teagerqint8 layer  time: 0.07971548498608172\n",
      "\tdirectconv layer  time: 0.056090957252308726\n",
      "\t Layer features.32: directconv W2A2 is faster than eagerqint8 by 0.02362s, replace it!\n",
      "8-th layer:\n",
      "\teagerqint8 layer  time: 0.1715256999596022\n",
      "\tdirectconv layer  time: 0.11876024270895869\n",
      "\t Layer features.36: directconv W2A2 is faster than eagerqint8 by 0.05277s, replace it!\n",
      "9-th layer:\n",
      "\teagerqint8 layer  time: 0.16998792823869735\n",
      "\tdirectconv layer  time: 0.13960822543594986\n",
      "\t Layer features.40: directconv W2A2 is faster than eagerqint8 by 0.03038s, replace it!\n",
      "10-th layer:\n",
      "\teagerqint8 layer  time: 0.06298606126802042\n",
      "\tdirectconv layer  time: 0.04325786221306771\n",
      "\t Layer features.45: directconv W2A2 is faster than eagerqint8 by 0.01973s, replace it!\n",
      "11-th layer:\n",
      "\teagerqint8 layer  time: 0.059203125070780516\n",
      "\tdirectconv layer  time: 0.04550672124605626\n",
      "\t Layer features.49: directconv W2A2 is faster than eagerqint8 by 0.0137s, replace it!\n",
      "12-th layer:\n",
      "\teagerqint8 layer  time: 0.07140488148434088\n",
      "\tdirectconv layer  time: 0.051427374011836946\n",
      "\t Layer features.53: directconv W2A2 is faster than eagerqint8 by 0.01998s, replace it!\n"
     ]
    }
   ],
   "source": [
    "from torch.ao.nn.intrinsic.quantized.modules.conv_relu import ConvReLU2d\n",
    "# isinstance(, type(vgg16bn_qint8.features))\n",
    "type(vgg16bn_qint8.features[0])\n",
    "# vgg16bn_qint8\n",
    "import time\n",
    "def test_time(layer,input,warmup=4,repeat = 10):\n",
    "    for _ in range(warmup):\n",
    "        output = layer(input)\n",
    "    \n",
    "    elapsed_time = 0\n",
    "    for _ in range(repeat):\n",
    "        start = time.perf_counter()\n",
    "        output = layer(input)\n",
    "        elapsed_time += time.perf_counter() - start\n",
    "    return output, elapsed_time/repeat\n",
    "\n",
    "import torch\n",
    "def get_module_input_output_shape(model, \n",
    "                                  layer_types=(torch.nn.Conv2d,), \n",
    "                                  first_input_shape=(1,3,224,224),\n",
    "                                  qunantize_input=False,\n",
    "                                  ):\n",
    "    \"\"\"\n",
    "    Get the input shape for a specified layer in a PyTorch model.\n",
    "\n",
    "    Parameters:\n",
    "    - model: The PyTorch model.\n",
    "    - layer_name: The name of the layer for which to find the input shape.\n",
    "    - input_shape: The shape of the input to feed to the model for the forward pass.\n",
    "\n",
    "    Returns:\n",
    "    - The input shape to the specified layer.\n",
    "    \"\"\"\n",
    "    # Variable to store the input shape\n",
    "    captured_input_shapes = []\n",
    "    captured_output_shapes = []\n",
    "    captured_layers = []\n",
    "    captured_layer_names = []\n",
    "    handles = []\n",
    "\n",
    "    # Hook function to capture the input shape\n",
    "    def hook_fn(module, input, output):\n",
    "        # nonlocal captured_shape\n",
    "        captured_input_shapes.append(input[0].shape)\n",
    "        captured_output_shapes.append(output.shape)\n",
    "        # captured_layers.append(module)\n",
    "\n",
    "    # Find and attach the hook to the specified layer\n",
    "    for name, layer in model.named_modules():\n",
    "        # print(layer_types)\n",
    "        if isinstance(layer, layer_types):\n",
    "            handles.append(layer.register_forward_hook(hook_fn))\n",
    "            captured_layer_names.append(name)\n",
    "            captured_layers.append(layer)\n",
    "            # break\n",
    "        # else:\n",
    "        #     raise ValueError(f\"Layer {layer_types} not found in the model.\")\n",
    "\n",
    "    # Create a dummy input and perform a forward pass to trigger the hook\n",
    "    dummy_input = torch.rand(first_input_shape)\n",
    "    if qunantize_input:\n",
    "        quant = lambda x: torch.quantize_per_tensor(x, scale=1.0, zero_point=0, dtype=torch.quint8) # torch.quantization.QuantStub()\n",
    "        dummy_input = quant(dummy_input)\n",
    "    model(dummy_input)\n",
    "\n",
    "    # Remove the hook\n",
    "    # handle.remove()\n",
    "    for handle in handles:\n",
    "        handle.remove()\n",
    "\n",
    "    return captured_layer_names, captured_layers, captured_input_shapes, captured_output_shapes\n",
    "\n",
    "from models.conv import DirectConv2d,PadConv2d\n",
    "def create_direct_conv2d_from(module, W_bits=3, A_bits=3, type=\"directconv\",\n",
    "                              prepare_func=lambda x: x.int(),\n",
    "                             post_func=lambda x: x,\n",
    "                             copy_weight = False,\n",
    "                             quantize = False):\n",
    "    __types__ = [\"directconv\",\"padconv\"]\n",
    "    if type not in __types__:\n",
    "        raise ValueError(f\"Only support {__types__} for type, but got {type}\")\n",
    "    dc_layer = None\n",
    "    if module.kernel_size[0]==3 \\\n",
    "                and module.stride[0]==1 and module.dilation[0]==1:\n",
    "        if type == \"directconv\":\n",
    "            dc_layer = DirectConv2d(module.in_channels, \n",
    "                        module.out_channels, \n",
    "                        module.kernel_size[0], \n",
    "                        W_bits, A_bits, True,\n",
    "                        prepare_func, post_func)\n",
    "        elif type == \"padconv\":\n",
    "            dc_layer = PadConv2d(module.in_channels, \n",
    "                                module.out_channels, \n",
    "                                module.kernel_size[0], \n",
    "                                W_bits = W_bits, A_bits = A_bits, \n",
    "                                stride= module.stride[0], \n",
    "                                dilation=module.dilation[0])\n",
    "    return dc_layer\n",
    "\n",
    "def replace_module(model, path, new_module):\n",
    "    \"\"\"\n",
    "    递归地替换模型中的模块。\n",
    "    :param model: 要修改的模型。\n",
    "    :param path: 要替换的模块的路径，以点分隔。\n",
    "    :param new_module: 新的模块对象。\n",
    "    \"\"\"\n",
    "    path_list = path.split('.')\n",
    "    for name in path_list[:-1]:\n",
    "        model = getattr(model, name)\n",
    "    setattr(model, path_list[-1], new_module)\n",
    "\n",
    "import copy\n",
    "\n",
    "def TestandReplace_VGGlayer(model, W_A_bit,layer_names, layers, input_shapes):\n",
    "    repeat = 4\n",
    "    warmup = 2\n",
    "    W_bits, A_bits = W_A_bit\n",
    "    replace_layers = []\n",
    "    start_layer_list = []\n",
    "    end_layer_list = []\n",
    "    end_layer_names = []\n",
    "    pre_replace_layer = None\n",
    "    for i,layer in enumerate(layers):\n",
    "        # print(layer)\n",
    "        # print(input_shapes[i])\n",
    "        # print(output_shapes[i])\n",
    "        # if isinstance(layer, ConvReLU2d):\n",
    "        # 测试以下两个层的运行耗时\n",
    "        inp = torch.rand(input_shapes[i])\n",
    "        quant_inp = torch.quantize_per_tensor(inp, scale=1.0, zero_point=0, dtype=torch.quint8)\n",
    "        direct_conv2d_layer = create_direct_conv2d_from(layer, W_bits, A_bits,type=\"directconv\")\n",
    "        # pad_conv2d_layer = create_direct_conv2d_from(layer, W_bits, A_bits,type=\"wrappedconv\",quantize = True)\n",
    "        out1,time1 = test_time(layer, quant_inp, warmup=warmup,repeat = repeat)\n",
    "        out2,time2 = test_time(direct_conv2d_layer, inp, warmup=warmup,repeat = repeat)\n",
    "        # out3,time3 = test_time(pad_conv2d_layer, inp)\n",
    "        print(f\"{i}-th layer:\")\n",
    "        print(f\"\\teagerqint8 layer  time: {time1}\")\n",
    "        print(f\"\\tdirectconv layer  time: {time2}\")\n",
    "        \n",
    "        if (time1>time2): # 将原始layer替换为directconv\n",
    "            print(f\"\\t Layer {layer_names[i]}: directconv W{W_bits}A{A_bits} is faster than eagerqint8 by {time1-time2:.4}s, replace it!\")\n",
    "            # setattr(model, layer_names[i], direct_conv2d_layer)\n",
    "            replace_module(model, layer_names[i], direct_conv2d_layer)\n",
    "            replace_layers.append(direct_conv2d_layer)\n",
    "            if pre_replace_layer is None:\n",
    "                pre_replace_layer = direct_conv2d_layer\n",
    "                start_layer_list.append(pre_replace_layer)\n",
    "                layer_names.append(layer_names[i])\n",
    "        else:\n",
    "            print(f\"\\t Layer {layer_names[i]}: eagerqint8 is faster than directconv W{W_bits}A{A_bits}, keep it!\")\n",
    "            if pre_replace_layer is not None:\n",
    "                end_layer_list.append(pre_replace_layer)\n",
    "                pre_replace_layer = None\n",
    "                # print(end_layer_name = layer_names[i])\n",
    "        # print(f\"\\twrappedconv layer  time: {time3}\")\n",
    "    # 记得把最后一层的输出改为qint8\n",
    "    end_layer_list.append(replace_layers[-1])\n",
    "    for layer in start_layer_list:\n",
    "        layer.prepare_func = lambda x: x.dequantize().int()\n",
    "    # model.features[10].prepare_func = lambda x: x.dequantize().int()\n",
    "    for layer in end_layer_list:\n",
    "        layer.post_func = lambda x: torch.quantize_per_tensor(x, scale=1.0, zero_point=0, dtype=torch.quint8)\n",
    "    # model.features[53].post_func = lambda x: torch.quantize_per_tensor(x, scale=1.0, zero_point=0, dtype=torch.quint8)\n",
    "    return model\n",
    "\n",
    "def VGG_BN_directconv(W_A_bit_list=[3,3], name = \"VGG16\",shape=(1,3,224,224),engine_name = 'qnnpack'):\n",
    "    # model = VGG_BN_qint8(name,shape,engine_name)\n",
    "    model = copy.deepcopy(vgg16bn_qint8)\n",
    "    # 测试每一个量化卷积层和对应的directconv的耗时，并替换计算更快的卷积层\n",
    "    \n",
    "    layer_names, layers, input_shapes, output_shapes = get_module_input_output_shape(model, \n",
    "                                                                        qunantize_input=True,\n",
    "                                                                        layer_types=(ConvReLU2d,), \n",
    "                                                                        first_input_shape=shape)\n",
    "    # repeat = 4\n",
    "    # warmup = 2\n",
    "    # for i,layer in enumerate(layers):\n",
    "    #     # print(layer)\n",
    "    #     # print(input_shapes[i])\n",
    "    #     # print(output_shapes[i])\n",
    "    #     # if isinstance(layer, ConvReLU2d):\n",
    "    #     # 测试以下两个层的运行耗时\n",
    "    #     inp = torch.rand(input_shapes[i])\n",
    "    #     quant_inp = torch.quantize_per_tensor(inp, scale=1.0, zero_point=0, dtype=torch.quint8)\n",
    "    #     direct_conv2d_layer = create_direct_conv2d_from(layer, W_bits, A_bits,type=\"directconv\")\n",
    "    #     # pad_conv2d_layer = create_direct_conv2d_from(layer, W_bits, A_bits,type=\"wrappedconv\",quantize = True)\n",
    "    #     out1,time1 = test_time(layer, quant_inp, warmup=warmup,repeat = repeat)\n",
    "    #     out2,time2 = test_time(direct_conv2d_layer, inp, warmup=warmup,repeat = repeat)\n",
    "    #     # out3,time3 = test_time(pad_conv2d_layer, inp)\n",
    "    #     print(f\"{i}-th layer:\")\n",
    "    #     print(f\"\\teagerqint8 layer  time: {time1}\")\n",
    "    #     print(f\"\\tdirectconv layer  time: {time2}\")\n",
    "    #     if (time1>time2): # 将原始layer替换为directconv\n",
    "    #         print(f\"\\t Layer {layer_names[i]}: directconv is faster than eagerqint8 by {time1-time2:.4}s, replace it!\")\n",
    "    #         # setattr(model, layer_names[i], direct_conv2d_layer)\n",
    "    #         replace_module(model, layer_names[i], direct_conv2d_layer)\n",
    "    #     else:\n",
    "    #         print(f\"\\t Layer {layer_names[i]}: eagerqint8 is faster than directconv, keep it!\")\n",
    "    #     # print(f\"\\twrappedconv layer  time: {time3}\")\n",
    "    # model.features[10].prepare_func = lambda x: x.dequantize().int()\n",
    "    # model.features[53].post_func = lambda x: torch.quantize_per_tensor(x, scale=1.0, zero_point=0, dtype=torch.quint8)\n",
    "    models = [copy.deepcopy(model) for _ in W_A_bit_list]\n",
    "    for m,W_A_bits in zip(models,W_A_bit_list):\n",
    "        m = TestandReplace_VGGlayer(m, W_A_bits, layer_names, layers, input_shapes)\n",
    "    return models\n",
    "# layer_names, layers, input_shapes, output_shapes = get_module_input_output_shape(vgg16bn_qint8, \n",
    "#                                                             qunantize_input=True,\n",
    "#                                                             layer_types=(ConvReLU2d,), \n",
    "#                                                             first_input_shape=(1,3,224,224))\n",
    "\n",
    "W_A_bit_list = [[3,3],[2,2]]\n",
    "vgg16bn_directconvs = VGG_BN_directconv(W_A_bit_list=W_A_bit_list,shape=(1,3,224,224))"
   ]
  },
  {
   "cell_type": "code",
   "execution_count": null,
   "metadata": {},
   "outputs": [
    {
     "data": {
      "text/plain": [
       "tensor([[-0.0134, -0.0030, -0.0022,  ..., -0.0090,  0.0194, -0.0134],\n",
       "        [-0.0134, -0.0030, -0.0022,  ..., -0.0090,  0.0194, -0.0134],\n",
       "        [-0.0134, -0.0030, -0.0022,  ..., -0.0090,  0.0194, -0.0134],\n",
       "        [-0.0134, -0.0030, -0.0022,  ..., -0.0090,  0.0194, -0.0134]],\n",
       "       size=(4, 1000), dtype=torch.quint8,\n",
       "       quantization_scheme=torch.per_tensor_affine, scale=0.0003731698670890182,\n",
       "       zero_point=64)"
      ]
     },
     "execution_count": 72,
     "metadata": {},
     "output_type": "execute_result"
    }
   ],
   "source": [
    "models[0](quant(torch.rand(4,3,224,224)))"
   ]
  },
  {
   "cell_type": "code",
   "execution_count": null,
   "metadata": {},
   "outputs": [
    {
     "name": "stdout",
     "output_type": "stream",
     "text": [
      "Batch size: 1\n",
      "\tmodel[0]: latency: 1.354s, fps: 0.7387 \n",
      "\tmodel[1]: latency: 1.432s, fps: 0.6981 \n",
      "Batch size: 2\n",
      "\tmodel[0]: latency: 2.442s, fps: 0.819 \n",
      "\tmodel[1]: latency: 2.22s, fps: 0.9011 \n",
      "Batch size: 4\n",
      "\tmodel[0]: latency: 3.631s, fps: 1.102 \n",
      "\tmodel[1]: latency: 3.591s, fps: 1.114 \n",
      "Batch size: 8\n",
      "\tmodel[0]: latency: 6.342s, fps: 1.261 \n",
      "\tmodel[1]: latency: 6.312s, fps: 1.267 \n"
     ]
    }
   ],
   "source": [
    "# quant = lambda x: torch.quantize_per_tensor(x, scale=1.0, zero_point=0, dtype=torch.quint8) \n",
    "# vgg16bn_directconv(quant(torch.rand(1,3,224,224)))\n",
    "batch_sizes = [1,2,4,8]\n",
    "perf_comp = {}\n",
    "model_names = [f\"vgg16bn_directconv_W{v[0]}A{v[0]}\" for v in W_A_bit_list]\n",
    "models = vgg16bn_directconvs\n",
    "# models[0].features[53].post_func = lambda x: torch.quantize_per_tensor(x, scale=1.0, zero_point=0, dtype=torch.quint8)\n",
    "# models[1].features[53].post_func = lambda x: torch.quantize_per_tensor(x, scale=1.0, zero_point=0, dtype=torch.quint8)\n",
    "# models[2].features[53].post_func = lambda x: torch.quantize_per_tensor(x, scale=1.0, zero_point=0, dtype=torch.quint8)\n",
    "import time\n",
    "for b in batch_sizes:\n",
    "    print(f\"Batch size: {b}\")\n",
    "    perf_comp[b] = []\n",
    "    for i, m in enumerate(models):\n",
    "        # out0,time0 = test_time(vgg16bn, torch.rand(b,3,224,224),1,2)\n",
    "        # out1,time1 = test_time(vgg16bn_qint8, quant(torch.rand(b,3,224,224)),1,2)\n",
    "        out,ecaplated_time = test_time(m, quant(torch.rand(b,3,224,224)),2,4)\n",
    "        # fps0 = b/time0\n",
    "        # fps1 = b/time1\n",
    "        fps = b/ecaplated_time\n",
    "        res=[ecaplated_time,fps]\n",
    "        # print(f\"\\tvgg16bn_float: latency: {time0:.4}s, fps: {fps0:.4} \")\n",
    "        # print(f\"\\tvgg16bn_qint8: latency: {time1:.4}s, fps: {fps1:.4} \")\n",
    "        print(f\"\\t{model_names[i]}: latency: {ecaplated_time:.4}s, fps: {fps:.4} \")\n",
    "        perf_comp[b].append(fps)\n"
   ]
  },
  {
   "cell_type": "code",
   "execution_count": null,
   "metadata": {},
   "outputs": [
    {
     "data": {
      "text/plain": [
       "{1: array([0.20987828, 0.71625762, 0.74900621]),\n",
       " 2: array([0.19773487, 0.74032495, 0.92111343]),\n",
       " 4: array([0.13423196, 0.94447353, 1.01818722]),\n",
       " 8: array([0.13565108, 1.0991052 , 1.32400622])}"
      ]
     },
     "execution_count": 61,
     "metadata": {},
     "output_type": "execute_result"
    }
   ],
   "source": [
    "# out2,time2 = test_time(vgg16bn_directconv, quant(torch.rand(1,3,224,224)),2,4)\n",
    "# time2\n",
    "\n",
    "import numpy as np\n",
    "perf_comp_b = {b:int(b)*np.array(perf_comp[b][3:]) for b in batch_sizes}\n",
    "perf_comp_b"
   ]
  },
  {
   "cell_type": "code",
   "execution_count": null,
   "metadata": {},
   "outputs": [
    {
     "data": {
      "text/plain": [
       "1.3640695284702815"
      ]
     },
     "execution_count": 51,
     "metadata": {},
     "output_type": "execute_result"
    }
   ],
   "source": [
    "qnnpack: 1.7150103444000706\n",
    "directconv: 1.3640695284702815\n"
   ]
  },
  {
   "cell_type": "code",
   "execution_count": null,
   "metadata": {},
   "outputs": [],
   "source": [
    "# direct_conv2d_layer = create_direct_conv2d_from(layers[0], 3, 3,type=\"directconv\")\n",
    "# direct_conv2d_layer\n",
    "# x = quant(torch.rand(1,3,224,224))\n",
    "# x.dtype == torch.int32\n",
    "# vgg16bn_directconv.features[10].prepare_func = lambda x: x.dequantize().int()\n",
    "# x.dequantize().int()\n",
    "vgg16bn_directconv.features[53].post_func = lambda x: torch.quantize_per_tensor(x, scale=1.0, zero_point=0, dtype=torch.quint8)"
   ]
  },
  {
   "cell_type": "code",
   "execution_count": null,
   "metadata": {},
   "outputs": [
    {
     "data": {
      "text/plain": [
       "[]"
      ]
     },
     "execution_count": 30,
     "metadata": {},
     "output_type": "execute_result"
    }
   ],
   "source": [
    "# ConvReLU2d\n",
    "# from torch.ao.nn.intrinsic.quantized.modules.conv_relu import ConvReLU2d\n",
    "# isinstance(vgg16bn_qint8.features[0],ConvReLU2d)\n",
    "# layers, input_shapes, output_shapes = get_module_input_output_shape(vgg16bn_qint8, \n",
    "#                                                                         qunantize_input=True,\n",
    "#                                                                         layer_types=(ConvReLU2d,), \n",
    "#                                                                         first_input_shape=(1,3,224,224))\n",
    "layers"
   ]
  },
  {
   "cell_type": "code",
   "execution_count": null,
   "metadata": {},
   "outputs": [
    {
     "name": "stderr",
     "output_type": "stream",
     "text": [
      "100%|██████████| 4/4 [00:12<00:00,  3.13s/it]"
     ]
    },
    {
     "name": "stdout",
     "output_type": "stream",
     "text": [
      "Float VGG16 Inference time: 12.500531435012817 seconds, FPS: 0.31998639584204996\n"
     ]
    },
    {
     "name": "stderr",
     "output_type": "stream",
     "text": [
      "\n"
     ]
    },
    {
     "data": {
      "text/plain": [
       "12.500531435012817"
      ]
     },
     "execution_count": 5,
     "metadata": {},
     "output_type": "execute_result"
    }
   ],
   "source": [
    "from models.utils import test_inference_speed\n",
    "test_inference_speed(vgg16bn, (1,3,224,224),False,4,title=\"Float VGG16\")"
   ]
  },
  {
   "cell_type": "code",
   "execution_count": null,
   "metadata": {},
   "outputs": [
    {
     "name": "stderr",
     "output_type": "stream",
     "text": [
      "100%|██████████| 4/4 [00:04<00:00,  1.24s/it]"
     ]
    },
    {
     "name": "stdout",
     "output_type": "stream",
     "text": [
      "Qint8 VGG16 Inference time: 4.933128833770752 seconds, FPS: 0.8108444224316977\n"
     ]
    },
    {
     "name": "stderr",
     "output_type": "stream",
     "text": [
      "\n"
     ]
    },
    {
     "data": {
      "text/plain": [
       "4.933128833770752"
      ]
     },
     "execution_count": 7,
     "metadata": {},
     "output_type": "execute_result"
    }
   ],
   "source": [
    "from models.utils import test_inference_speed\n",
    "test_inference_speed(vgg16bn_qint8, (1,3,224,224),True,4,title=\"Qint8 VGG16\")"
   ]
  },
  {
   "cell_type": "code",
   "execution_count": 13,
   "metadata": {},
   "outputs": [
    {
     "name": "stdout",
     "output_type": "stream",
     "text": [
      "Preprocess time: Execution time: 965.5147 us\n",
      "1.5703e-05s\n",
      "direct_conv2d computation time: 0.000151721s\n"
     ]
    }
   ],
   "source": [
    "import torch\n",
    "import torch.nn as nn\n",
    "import direct_conv2d  # 确保已经导入direct_conv2d模块\n",
    "from torch.nn import functional as F\n",
    "from torch.nn.quantized import functional as QF\n",
    "\n",
    "# 设置量化引擎为QNNPACK\n",
    "torch.backends.quantized.engine = 'qnnpack'\n",
    "\n",
    "\n",
    "import sys, os\n",
    "notebook_path = os.getcwd()  # Get the current working directory\n",
    "parent_directory = os.path.dirname(notebook_path)  # Get the parent directory\n",
    "sys.path.append(parent_directory)\n",
    "# from models.resnet import ResNet18\n",
    "# from models.vggnet import ExpVGG16_BN\n",
    "from models.utils import MeasureExecutionTime\n",
    "\n",
    "import time\n",
    "import logging\n",
    "\n",
    "N, C, H, W = 16, 256, 56, 56\n",
    "\n",
    "dinp=torch.randint(1,3,(N,C,H,W)).int()\n",
    "dx=torch.randint(1,3,(1,C,3,3)).int()\n",
    "with MeasureExecutionTime(measure_name = \"DC\"):\n",
    "    OUT = direct_conv2d.direct_conv2d(dinp, dx,3,3,1,1,0,1)\n",
    "\n",
    "inp=torch.randint(1,3,(N,C,H,W)).float()\n",
    "x=torch.randint(1,3,(C,1,3,3)).float()\n",
    "with MeasureExecutionTime(measure_name = \"Float\"):\n",
    "    out = F.conv2d(inp, x, padding=2,groups=C)\n",
    "\n",
    "\n",
    "# 定义量化参数\n",
    "scale = 0.1  # 比例因子\n",
    "zero_point = 0  # 零点\n",
    "\n",
    "qinp = torch.quantize_per_tensor(inp, scale, zero_point, torch.quint8)\n",
    "qx = torch.quantize_per_tensor(x, scale, zero_point, torch.qint8)\n",
    "with MeasureExecutionTime(measure_name = \"Qint8\"):\n",
    "    out = QF.conv2d(qinp, qx, None, padding=2,groups=C)\n",
    "\n",
    "\n",
    "# 如果包中有描述信息的属性（这不是标准，可能不存在）\n",
    "# print(direct_conv2d.__description__)  # 这行可能不会工作，因为__description__不是一个标准属性"
   ]
  },
  {
   "cell_type": "code",
   "execution_count": null,
   "metadata": {},
   "outputs": [],
   "source": [
    "OUT"
   ]
  },
  {
   "cell_type": "code",
   "execution_count": null,
   "metadata": {},
   "outputs": [
    {
     "data": {
      "image/png": "[encoded data removed]",
      "text/plain": [
       "<Figure size 640x480 with 1 Axes>"
      ]
     },
     "metadata": {},
     "output_type": "display_data"
    }
   ],
   "source": [
    "import matplotlib.pyplot as plt\n",
    "_ = plt.hist(OUT.data.numpy().flatten(),bins=100)"
   ]
  }
 ],
 "metadata": {
  "kernelspec": {
   "display_name": "Python 3",
   "language": "python",
   "name": "python3"
  },
  "language_info": {
   "codemirror_mode": {
    "name": "ipython",
    "version": 3
   },
   "file_extension": ".py",
   "mimetype": "text/x-python",
   "name": "python",
   "nbconvert_exporter": "python",
   "pygments_lexer": "ipython3",
   "version": "3.9.2"
  }
 },
 "nbformat": 4,
 "nbformat_minor": 2
}
